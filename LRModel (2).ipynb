{
 "cells": [
  {
   "cell_type": "code",
   "execution_count": 1,
   "metadata": {},
   "outputs": [],
   "source": [
    "import pandas as pd\n",
    "import matplotlib\n",
    "import numpy\n",
    "import sklearn\n",
    "import matplotlib.pyplot as plt\n",
    "import seaborn as sns"
   ]
  },
  {
   "cell_type": "code",
   "execution_count": 21,
   "metadata": {},
   "outputs": [],
   "source": [
    "from sklearn.model_selection import train_test_split\n",
    "from sklearn.preprocessing import LabelEncoder, StandardScaler\n",
    "from sklearn.model_selection import KFold\n",
    "from sklearn.model_selection import cross_val_score"
   ]
  },
  {
   "cell_type": "code",
   "execution_count": 3,
   "metadata": {
    "scrolled": false
   },
   "outputs": [
    {
     "data": {
      "text/html": [
       "<div>\n",
       "<style scoped>\n",
       "    .dataframe tbody tr th:only-of-type {\n",
       "        vertical-align: middle;\n",
       "    }\n",
       "\n",
       "    .dataframe tbody tr th {\n",
       "        vertical-align: top;\n",
       "    }\n",
       "\n",
       "    .dataframe thead th {\n",
       "        text-align: right;\n",
       "    }\n",
       "</style>\n",
       "<table border=\"1\" class=\"dataframe\">\n",
       "  <thead>\n",
       "    <tr style=\"text-align: right;\">\n",
       "      <th></th>\n",
       "      <th>Date</th>\n",
       "      <th>Region_Name</th>\n",
       "      <th>Area_Code</th>\n",
       "      <th>New_Build_Average_Price</th>\n",
       "      <th>New_Build_Index</th>\n",
       "      <th>New_Build_Monthly_Change</th>\n",
       "      <th>New_Build_Annual_Change</th>\n",
       "      <th>New_Build_Sales_Volume</th>\n",
       "      <th>Existing_Property_Average_Price</th>\n",
       "      <th>Existing_Property_Index</th>\n",
       "      <th>Existing_Property_Monthly_Change</th>\n",
       "      <th>Existing_Property_Annual_Change</th>\n",
       "      <th>Existing_Property_Sales_Volume</th>\n",
       "    </tr>\n",
       "  </thead>\n",
       "  <tbody>\n",
       "    <tr>\n",
       "      <th>0</th>\n",
       "      <td>01/01/1996</td>\n",
       "      <td>Cumbria</td>\n",
       "      <td>E10000006</td>\n",
       "      <td>57787.96259</td>\n",
       "      <td>32.914004</td>\n",
       "      <td>-0.585386</td>\n",
       "      <td>1.425448</td>\n",
       "      <td>44</td>\n",
       "      <td>42193.57096</td>\n",
       "      <td>30.438916</td>\n",
       "      <td>-1.728058</td>\n",
       "      <td>-1.521743</td>\n",
       "      <td>335</td>\n",
       "    </tr>\n",
       "    <tr>\n",
       "      <th>1</th>\n",
       "      <td>01/01/1996</td>\n",
       "      <td>Sutton</td>\n",
       "      <td>E09000029</td>\n",
       "      <td>77884.03610</td>\n",
       "      <td>24.708490</td>\n",
       "      <td>0.175607</td>\n",
       "      <td>0.029447</td>\n",
       "      <td>10</td>\n",
       "      <td>69692.71573</td>\n",
       "      <td>22.672059</td>\n",
       "      <td>-0.316870</td>\n",
       "      <td>-2.453548</td>\n",
       "      <td>206</td>\n",
       "    </tr>\n",
       "    <tr>\n",
       "      <th>2</th>\n",
       "      <td>01/01/1996</td>\n",
       "      <td>Croydon</td>\n",
       "      <td>E09000008</td>\n",
       "      <td>67333.56841</td>\n",
       "      <td>24.767420</td>\n",
       "      <td>-0.087002</td>\n",
       "      <td>0.583562</td>\n",
       "      <td>7</td>\n",
       "      <td>67799.35123</td>\n",
       "      <td>23.390220</td>\n",
       "      <td>-0.603791</td>\n",
       "      <td>-1.743658</td>\n",
       "      <td>375</td>\n",
       "    </tr>\n",
       "    <tr>\n",
       "      <th>3</th>\n",
       "      <td>01/01/1996</td>\n",
       "      <td>Brent</td>\n",
       "      <td>E09000005</td>\n",
       "      <td>71314.19489</td>\n",
       "      <td>17.897684</td>\n",
       "      <td>1.223518</td>\n",
       "      <td>4.950428</td>\n",
       "      <td>3</td>\n",
       "      <td>73525.84789</td>\n",
       "      <td>17.237387</td>\n",
       "      <td>0.340368</td>\n",
       "      <td>1.935006</td>\n",
       "      <td>248</td>\n",
       "    </tr>\n",
       "    <tr>\n",
       "      <th>4</th>\n",
       "      <td>01/01/1996</td>\n",
       "      <td>Bromley</td>\n",
       "      <td>E09000006</td>\n",
       "      <td>85655.00173</td>\n",
       "      <td>22.602077</td>\n",
       "      <td>-0.288070</td>\n",
       "      <td>3.107497</td>\n",
       "      <td>12</td>\n",
       "      <td>82194.71320</td>\n",
       "      <td>22.057493</td>\n",
       "      <td>-0.949693</td>\n",
       "      <td>0.509837</td>\n",
       "      <td>340</td>\n",
       "    </tr>\n",
       "    <tr>\n",
       "      <th>...</th>\n",
       "      <td>...</td>\n",
       "      <td>...</td>\n",
       "      <td>...</td>\n",
       "      <td>...</td>\n",
       "      <td>...</td>\n",
       "      <td>...</td>\n",
       "      <td>...</td>\n",
       "      <td>...</td>\n",
       "      <td>...</td>\n",
       "      <td>...</td>\n",
       "      <td>...</td>\n",
       "      <td>...</td>\n",
       "      <td>...</td>\n",
       "    </tr>\n",
       "    <tr>\n",
       "      <th>73199</th>\n",
       "      <td>01/06/2022</td>\n",
       "      <td>Northumberland</td>\n",
       "      <td>E06000057</td>\n",
       "      <td>293944.88970</td>\n",
       "      <td>153.461353</td>\n",
       "      <td>-0.570438</td>\n",
       "      <td>14.324706</td>\n",
       "      <td>5</td>\n",
       "      <td>177313.25730</td>\n",
       "      <td>127.632415</td>\n",
       "      <td>-0.077461</td>\n",
       "      <td>1.908557</td>\n",
       "      <td>208</td>\n",
       "    </tr>\n",
       "    <tr>\n",
       "      <th>73200</th>\n",
       "      <td>01/06/2022</td>\n",
       "      <td>Portsmouth</td>\n",
       "      <td>E06000044</td>\n",
       "      <td>307808.94460</td>\n",
       "      <td>161.815711</td>\n",
       "      <td>-0.248941</td>\n",
       "      <td>16.021367</td>\n",
       "      <td>1</td>\n",
       "      <td>246100.48570</td>\n",
       "      <td>144.610517</td>\n",
       "      <td>0.301049</td>\n",
       "      <td>8.147350</td>\n",
       "      <td>167</td>\n",
       "    </tr>\n",
       "    <tr>\n",
       "      <th>73201</th>\n",
       "      <td>01/06/2022</td>\n",
       "      <td>Bournemouth Christchurch and Poole</td>\n",
       "      <td>E06000058</td>\n",
       "      <td>336650.69190</td>\n",
       "      <td>152.361529</td>\n",
       "      <td>1.310216</td>\n",
       "      <td>20.528874</td>\n",
       "      <td>3</td>\n",
       "      <td>333783.20360</td>\n",
       "      <td>140.183031</td>\n",
       "      <td>1.582028</td>\n",
       "      <td>10.216051</td>\n",
       "      <td>338</td>\n",
       "    </tr>\n",
       "    <tr>\n",
       "      <th>73202</th>\n",
       "      <td>01/06/2022</td>\n",
       "      <td>Darlington</td>\n",
       "      <td>E06000005</td>\n",
       "      <td>251520.18520</td>\n",
       "      <td>150.608543</td>\n",
       "      <td>-1.106401</td>\n",
       "      <td>19.673326</td>\n",
       "      <td>1</td>\n",
       "      <td>149338.12530</td>\n",
       "      <td>125.852799</td>\n",
       "      <td>-0.155702</td>\n",
       "      <td>7.116072</td>\n",
       "      <td>88</td>\n",
       "    </tr>\n",
       "    <tr>\n",
       "      <th>73203</th>\n",
       "      <td>01/06/2022</td>\n",
       "      <td>East Riding of Yorkshire</td>\n",
       "      <td>E06000011</td>\n",
       "      <td>321877.10640</td>\n",
       "      <td>169.880142</td>\n",
       "      <td>0.192388</td>\n",
       "      <td>18.721202</td>\n",
       "      <td>10</td>\n",
       "      <td>210983.13870</td>\n",
       "      <td>140.664444</td>\n",
       "      <td>0.809089</td>\n",
       "      <td>6.074988</td>\n",
       "      <td>329</td>\n",
       "    </tr>\n",
       "  </tbody>\n",
       "</table>\n",
       "<p>73204 rows × 13 columns</p>\n",
       "</div>"
      ],
      "text/plain": [
       "             Date                         Region_Name  Area_Code  \\\n",
       "0      01/01/1996                             Cumbria  E10000006   \n",
       "1      01/01/1996                              Sutton  E09000029   \n",
       "2      01/01/1996                             Croydon  E09000008   \n",
       "3      01/01/1996                               Brent  E09000005   \n",
       "4      01/01/1996                             Bromley  E09000006   \n",
       "...           ...                                 ...        ...   \n",
       "73199  01/06/2022                      Northumberland  E06000057   \n",
       "73200  01/06/2022                          Portsmouth  E06000044   \n",
       "73201  01/06/2022  Bournemouth Christchurch and Poole  E06000058   \n",
       "73202  01/06/2022                          Darlington  E06000005   \n",
       "73203  01/06/2022            East Riding of Yorkshire  E06000011   \n",
       "\n",
       "       New_Build_Average_Price  New_Build_Index  New_Build_Monthly_Change  \\\n",
       "0                  57787.96259        32.914004                 -0.585386   \n",
       "1                  77884.03610        24.708490                  0.175607   \n",
       "2                  67333.56841        24.767420                 -0.087002   \n",
       "3                  71314.19489        17.897684                  1.223518   \n",
       "4                  85655.00173        22.602077                 -0.288070   \n",
       "...                        ...              ...                       ...   \n",
       "73199             293944.88970       153.461353                 -0.570438   \n",
       "73200             307808.94460       161.815711                 -0.248941   \n",
       "73201             336650.69190       152.361529                  1.310216   \n",
       "73202             251520.18520       150.608543                 -1.106401   \n",
       "73203             321877.10640       169.880142                  0.192388   \n",
       "\n",
       "       New_Build_Annual_Change  New_Build_Sales_Volume  \\\n",
       "0                     1.425448                      44   \n",
       "1                     0.029447                      10   \n",
       "2                     0.583562                       7   \n",
       "3                     4.950428                       3   \n",
       "4                     3.107497                      12   \n",
       "...                        ...                     ...   \n",
       "73199                14.324706                       5   \n",
       "73200                16.021367                       1   \n",
       "73201                20.528874                       3   \n",
       "73202                19.673326                       1   \n",
       "73203                18.721202                      10   \n",
       "\n",
       "       Existing_Property_Average_Price  Existing_Property_Index  \\\n",
       "0                          42193.57096                30.438916   \n",
       "1                          69692.71573                22.672059   \n",
       "2                          67799.35123                23.390220   \n",
       "3                          73525.84789                17.237387   \n",
       "4                          82194.71320                22.057493   \n",
       "...                                ...                      ...   \n",
       "73199                     177313.25730               127.632415   \n",
       "73200                     246100.48570               144.610517   \n",
       "73201                     333783.20360               140.183031   \n",
       "73202                     149338.12530               125.852799   \n",
       "73203                     210983.13870               140.664444   \n",
       "\n",
       "       Existing_Property_Monthly_Change  Existing_Property_Annual_Change  \\\n",
       "0                             -1.728058                        -1.521743   \n",
       "1                             -0.316870                        -2.453548   \n",
       "2                             -0.603791                        -1.743658   \n",
       "3                              0.340368                         1.935006   \n",
       "4                             -0.949693                         0.509837   \n",
       "...                                 ...                              ...   \n",
       "73199                         -0.077461                         1.908557   \n",
       "73200                          0.301049                         8.147350   \n",
       "73201                          1.582028                        10.216051   \n",
       "73202                         -0.155702                         7.116072   \n",
       "73203                          0.809089                         6.074988   \n",
       "\n",
       "       Existing_Property_Sales_Volume  \n",
       "0                                 335  \n",
       "1                                 206  \n",
       "2                                 375  \n",
       "3                                 248  \n",
       "4                                 340  \n",
       "...                               ...  \n",
       "73199                             208  \n",
       "73200                             167  \n",
       "73201                             338  \n",
       "73202                              88  \n",
       "73203                             329  \n",
       "\n",
       "[73204 rows x 13 columns]"
      ]
     },
     "execution_count": 3,
     "metadata": {},
     "output_type": "execute_result"
    }
   ],
   "source": [
    "data = pd.read_csv('cleaned_RealEstateData.csv')\n",
    "data"
   ]
  },
  {
   "cell_type": "code",
   "execution_count": 4,
   "metadata": {
    "scrolled": false
   },
   "outputs": [
    {
     "data": {
      "text/html": [
       "<div>\n",
       "<style scoped>\n",
       "    .dataframe tbody tr th:only-of-type {\n",
       "        vertical-align: middle;\n",
       "    }\n",
       "\n",
       "    .dataframe tbody tr th {\n",
       "        vertical-align: top;\n",
       "    }\n",
       "\n",
       "    .dataframe thead th {\n",
       "        text-align: right;\n",
       "    }\n",
       "</style>\n",
       "<table border=\"1\" class=\"dataframe\">\n",
       "  <thead>\n",
       "    <tr style=\"text-align: right;\">\n",
       "      <th></th>\n",
       "      <th>Date</th>\n",
       "      <th>Region_Name</th>\n",
       "      <th>Area_Code</th>\n",
       "      <th>New_Build_Average_Price</th>\n",
       "      <th>New_Build_Index</th>\n",
       "      <th>New_Build_Monthly_Change</th>\n",
       "      <th>New_Build_Annual_Change</th>\n",
       "      <th>New_Build_Sales_Volume</th>\n",
       "      <th>Existing_Property_Average_Price</th>\n",
       "      <th>Existing_Property_Index</th>\n",
       "      <th>Existing_Property_Monthly_Change</th>\n",
       "      <th>Existing_Property_Annual_Change</th>\n",
       "      <th>Existing_Property_Sales_Volume</th>\n",
       "      <th>Year</th>\n",
       "    </tr>\n",
       "  </thead>\n",
       "  <tbody>\n",
       "    <tr>\n",
       "      <th>0</th>\n",
       "      <td>01/01/1996</td>\n",
       "      <td>Cumbria</td>\n",
       "      <td>E10000006</td>\n",
       "      <td>57787.96259</td>\n",
       "      <td>32.914004</td>\n",
       "      <td>-0.585386</td>\n",
       "      <td>1.425448</td>\n",
       "      <td>44</td>\n",
       "      <td>42193.57096</td>\n",
       "      <td>30.438916</td>\n",
       "      <td>-1.728058</td>\n",
       "      <td>-1.521743</td>\n",
       "      <td>335</td>\n",
       "      <td>1996</td>\n",
       "    </tr>\n",
       "    <tr>\n",
       "      <th>1</th>\n",
       "      <td>01/01/1996</td>\n",
       "      <td>Sutton</td>\n",
       "      <td>E09000029</td>\n",
       "      <td>77884.03610</td>\n",
       "      <td>24.708490</td>\n",
       "      <td>0.175607</td>\n",
       "      <td>0.029447</td>\n",
       "      <td>10</td>\n",
       "      <td>69692.71573</td>\n",
       "      <td>22.672059</td>\n",
       "      <td>-0.316870</td>\n",
       "      <td>-2.453548</td>\n",
       "      <td>206</td>\n",
       "      <td>1996</td>\n",
       "    </tr>\n",
       "    <tr>\n",
       "      <th>2</th>\n",
       "      <td>01/01/1996</td>\n",
       "      <td>Croydon</td>\n",
       "      <td>E09000008</td>\n",
       "      <td>67333.56841</td>\n",
       "      <td>24.767420</td>\n",
       "      <td>-0.087002</td>\n",
       "      <td>0.583562</td>\n",
       "      <td>7</td>\n",
       "      <td>67799.35123</td>\n",
       "      <td>23.390220</td>\n",
       "      <td>-0.603791</td>\n",
       "      <td>-1.743658</td>\n",
       "      <td>375</td>\n",
       "      <td>1996</td>\n",
       "    </tr>\n",
       "    <tr>\n",
       "      <th>3</th>\n",
       "      <td>01/01/1996</td>\n",
       "      <td>Brent</td>\n",
       "      <td>E09000005</td>\n",
       "      <td>71314.19489</td>\n",
       "      <td>17.897684</td>\n",
       "      <td>1.223518</td>\n",
       "      <td>4.950428</td>\n",
       "      <td>3</td>\n",
       "      <td>73525.84789</td>\n",
       "      <td>17.237387</td>\n",
       "      <td>0.340368</td>\n",
       "      <td>1.935006</td>\n",
       "      <td>248</td>\n",
       "      <td>1996</td>\n",
       "    </tr>\n",
       "    <tr>\n",
       "      <th>4</th>\n",
       "      <td>01/01/1996</td>\n",
       "      <td>Bromley</td>\n",
       "      <td>E09000006</td>\n",
       "      <td>85655.00173</td>\n",
       "      <td>22.602077</td>\n",
       "      <td>-0.288070</td>\n",
       "      <td>3.107497</td>\n",
       "      <td>12</td>\n",
       "      <td>82194.71320</td>\n",
       "      <td>22.057493</td>\n",
       "      <td>-0.949693</td>\n",
       "      <td>0.509837</td>\n",
       "      <td>340</td>\n",
       "      <td>1996</td>\n",
       "    </tr>\n",
       "    <tr>\n",
       "      <th>...</th>\n",
       "      <td>...</td>\n",
       "      <td>...</td>\n",
       "      <td>...</td>\n",
       "      <td>...</td>\n",
       "      <td>...</td>\n",
       "      <td>...</td>\n",
       "      <td>...</td>\n",
       "      <td>...</td>\n",
       "      <td>...</td>\n",
       "      <td>...</td>\n",
       "      <td>...</td>\n",
       "      <td>...</td>\n",
       "      <td>...</td>\n",
       "      <td>...</td>\n",
       "    </tr>\n",
       "    <tr>\n",
       "      <th>73199</th>\n",
       "      <td>01/06/2022</td>\n",
       "      <td>Northumberland</td>\n",
       "      <td>E06000057</td>\n",
       "      <td>293944.88970</td>\n",
       "      <td>153.461353</td>\n",
       "      <td>-0.570438</td>\n",
       "      <td>14.324706</td>\n",
       "      <td>5</td>\n",
       "      <td>177313.25730</td>\n",
       "      <td>127.632415</td>\n",
       "      <td>-0.077461</td>\n",
       "      <td>1.908557</td>\n",
       "      <td>208</td>\n",
       "      <td>2022</td>\n",
       "    </tr>\n",
       "    <tr>\n",
       "      <th>73200</th>\n",
       "      <td>01/06/2022</td>\n",
       "      <td>Portsmouth</td>\n",
       "      <td>E06000044</td>\n",
       "      <td>307808.94460</td>\n",
       "      <td>161.815711</td>\n",
       "      <td>-0.248941</td>\n",
       "      <td>16.021367</td>\n",
       "      <td>1</td>\n",
       "      <td>246100.48570</td>\n",
       "      <td>144.610517</td>\n",
       "      <td>0.301049</td>\n",
       "      <td>8.147350</td>\n",
       "      <td>167</td>\n",
       "      <td>2022</td>\n",
       "    </tr>\n",
       "    <tr>\n",
       "      <th>73201</th>\n",
       "      <td>01/06/2022</td>\n",
       "      <td>Bournemouth Christchurch and Poole</td>\n",
       "      <td>E06000058</td>\n",
       "      <td>336650.69190</td>\n",
       "      <td>152.361529</td>\n",
       "      <td>1.310216</td>\n",
       "      <td>20.528874</td>\n",
       "      <td>3</td>\n",
       "      <td>333783.20360</td>\n",
       "      <td>140.183031</td>\n",
       "      <td>1.582028</td>\n",
       "      <td>10.216051</td>\n",
       "      <td>338</td>\n",
       "      <td>2022</td>\n",
       "    </tr>\n",
       "    <tr>\n",
       "      <th>73202</th>\n",
       "      <td>01/06/2022</td>\n",
       "      <td>Darlington</td>\n",
       "      <td>E06000005</td>\n",
       "      <td>251520.18520</td>\n",
       "      <td>150.608543</td>\n",
       "      <td>-1.106401</td>\n",
       "      <td>19.673326</td>\n",
       "      <td>1</td>\n",
       "      <td>149338.12530</td>\n",
       "      <td>125.852799</td>\n",
       "      <td>-0.155702</td>\n",
       "      <td>7.116072</td>\n",
       "      <td>88</td>\n",
       "      <td>2022</td>\n",
       "    </tr>\n",
       "    <tr>\n",
       "      <th>73203</th>\n",
       "      <td>01/06/2022</td>\n",
       "      <td>East Riding of Yorkshire</td>\n",
       "      <td>E06000011</td>\n",
       "      <td>321877.10640</td>\n",
       "      <td>169.880142</td>\n",
       "      <td>0.192388</td>\n",
       "      <td>18.721202</td>\n",
       "      <td>10</td>\n",
       "      <td>210983.13870</td>\n",
       "      <td>140.664444</td>\n",
       "      <td>0.809089</td>\n",
       "      <td>6.074988</td>\n",
       "      <td>329</td>\n",
       "      <td>2022</td>\n",
       "    </tr>\n",
       "  </tbody>\n",
       "</table>\n",
       "<p>73204 rows × 14 columns</p>\n",
       "</div>"
      ],
      "text/plain": [
       "             Date                         Region_Name  Area_Code  \\\n",
       "0      01/01/1996                             Cumbria  E10000006   \n",
       "1      01/01/1996                              Sutton  E09000029   \n",
       "2      01/01/1996                             Croydon  E09000008   \n",
       "3      01/01/1996                               Brent  E09000005   \n",
       "4      01/01/1996                             Bromley  E09000006   \n",
       "...           ...                                 ...        ...   \n",
       "73199  01/06/2022                      Northumberland  E06000057   \n",
       "73200  01/06/2022                          Portsmouth  E06000044   \n",
       "73201  01/06/2022  Bournemouth Christchurch and Poole  E06000058   \n",
       "73202  01/06/2022                          Darlington  E06000005   \n",
       "73203  01/06/2022            East Riding of Yorkshire  E06000011   \n",
       "\n",
       "       New_Build_Average_Price  New_Build_Index  New_Build_Monthly_Change  \\\n",
       "0                  57787.96259        32.914004                 -0.585386   \n",
       "1                  77884.03610        24.708490                  0.175607   \n",
       "2                  67333.56841        24.767420                 -0.087002   \n",
       "3                  71314.19489        17.897684                  1.223518   \n",
       "4                  85655.00173        22.602077                 -0.288070   \n",
       "...                        ...              ...                       ...   \n",
       "73199             293944.88970       153.461353                 -0.570438   \n",
       "73200             307808.94460       161.815711                 -0.248941   \n",
       "73201             336650.69190       152.361529                  1.310216   \n",
       "73202             251520.18520       150.608543                 -1.106401   \n",
       "73203             321877.10640       169.880142                  0.192388   \n",
       "\n",
       "       New_Build_Annual_Change  New_Build_Sales_Volume  \\\n",
       "0                     1.425448                      44   \n",
       "1                     0.029447                      10   \n",
       "2                     0.583562                       7   \n",
       "3                     4.950428                       3   \n",
       "4                     3.107497                      12   \n",
       "...                        ...                     ...   \n",
       "73199                14.324706                       5   \n",
       "73200                16.021367                       1   \n",
       "73201                20.528874                       3   \n",
       "73202                19.673326                       1   \n",
       "73203                18.721202                      10   \n",
       "\n",
       "       Existing_Property_Average_Price  Existing_Property_Index  \\\n",
       "0                          42193.57096                30.438916   \n",
       "1                          69692.71573                22.672059   \n",
       "2                          67799.35123                23.390220   \n",
       "3                          73525.84789                17.237387   \n",
       "4                          82194.71320                22.057493   \n",
       "...                                ...                      ...   \n",
       "73199                     177313.25730               127.632415   \n",
       "73200                     246100.48570               144.610517   \n",
       "73201                     333783.20360               140.183031   \n",
       "73202                     149338.12530               125.852799   \n",
       "73203                     210983.13870               140.664444   \n",
       "\n",
       "       Existing_Property_Monthly_Change  Existing_Property_Annual_Change  \\\n",
       "0                             -1.728058                        -1.521743   \n",
       "1                             -0.316870                        -2.453548   \n",
       "2                             -0.603791                        -1.743658   \n",
       "3                              0.340368                         1.935006   \n",
       "4                             -0.949693                         0.509837   \n",
       "...                                 ...                              ...   \n",
       "73199                         -0.077461                         1.908557   \n",
       "73200                          0.301049                         8.147350   \n",
       "73201                          1.582028                        10.216051   \n",
       "73202                         -0.155702                         7.116072   \n",
       "73203                          0.809089                         6.074988   \n",
       "\n",
       "       Existing_Property_Sales_Volume  Year  \n",
       "0                                 335  1996  \n",
       "1                                 206  1996  \n",
       "2                                 375  1996  \n",
       "3                                 248  1996  \n",
       "4                                 340  1996  \n",
       "...                               ...   ...  \n",
       "73199                             208  2022  \n",
       "73200                             167  2022  \n",
       "73201                             338  2022  \n",
       "73202                              88  2022  \n",
       "73203                             329  2022  \n",
       "\n",
       "[73204 rows x 14 columns]"
      ]
     },
     "execution_count": 4,
     "metadata": {},
     "output_type": "execute_result"
    }
   ],
   "source": [
    "# Convert the 'Date' column to a numerical feature: year\n",
    "data['Year'] = pd.to_datetime(data['Date']).dt.year\n",
    "data"
   ]
  },
  {
   "cell_type": "code",
   "execution_count": 5,
   "metadata": {},
   "outputs": [],
   "source": [
    "# Encoding categorical feature: 'Region_Name'\n",
    "label_encoder = LabelEncoder()\n",
    "data['Region_Code'] = label_encoder.fit_transform(data['Region_Name'])"
   ]
  },
  {
   "cell_type": "code",
   "execution_count": 6,
   "metadata": {},
   "outputs": [
    {
     "data": {
      "text/plain": [
       "Index(['Date', 'Region_Name', 'Area_Code', 'New_Build_Average_Price',\n",
       "       'New_Build_Index', 'New_Build_Monthly_Change',\n",
       "       'New_Build_Annual_Change', 'New_Build_Sales_Volume',\n",
       "       'Existing_Property_Average_Price', 'Existing_Property_Index',\n",
       "       'Existing_Property_Monthly_Change', 'Existing_Property_Annual_Change',\n",
       "       'Existing_Property_Sales_Volume', 'Year', 'Region_Code'],\n",
       "      dtype='object')"
      ]
     },
     "execution_count": 6,
     "metadata": {},
     "output_type": "execute_result"
    }
   ],
   "source": [
    "data.columns"
   ]
  },
  {
   "cell_type": "code",
   "execution_count": 15,
   "metadata": {},
   "outputs": [],
   "source": [
    "# Feature scaling using StandardScaler\n",
    "scaler = StandardScaler()\n",
    "scaled_features = scaler.fit_transform(data[['Year', \n",
    "'Existing_Property_Average_Price','New_Build_Annual_Change','New_Build_Monthly_Change','Existing_Property_Monthly_Change',\n",
    "                                            'Existing_Property_Annual_Change','Region_Code','New_Build_Index',\n",
    "                                           'Existing_Property_Average_Price', 'Existing_Property_Index',\n",
    "                                            'Existing_Property_Sales_Volume']])"
   ]
  },
  {
   "cell_type": "code",
   "execution_count": 16,
   "metadata": {},
   "outputs": [],
   "source": [
    "# Splitting dataset into training and testing sets (80% train, 20% test)\n",
    "X = scaled_features\n",
    "y = data['New_Build_Average_Price']\n",
    "X_train, X_test, y_train, y_test = train_test_split(X, y, test_size=0.2, random_state=42)"
   ]
  },
  {
   "cell_type": "code",
   "execution_count": 17,
   "metadata": {},
   "outputs": [],
   "source": [
    "# Model Building\n",
    "\n",
    "from sklearn.linear_model import LinearRegression\n",
    "\n",
    "# Initialize the Linear Regression model\n",
    "model = LinearRegression()\n",
    "\n",
    "# Train the model using the training data\n",
    "model.fit(X_train, y_train)\n",
    "\n",
    "# Predict New_Build_Average_Price for the test set\n",
    "y_pred = model.predict(X_test)"
   ]
  },
  {
   "cell_type": "code",
   "execution_count": 18,
   "metadata": {},
   "outputs": [
    {
     "name": "stdout",
     "output_type": "stream",
     "text": [
      "Mean Absolute Error (MAE): 20352.52083785068\n",
      "Mean Squared Error (MSE): 816951756.3286821\n",
      "R-squared: 0.8829157337476989\n"
     ]
    }
   ],
   "source": [
    "# Evaluation of the model\n",
    "from sklearn.metrics import mean_absolute_error, mean_squared_error, r2_score\n",
    "\n",
    "# Initialize and train the linear regression model\n",
    "regressor = LinearRegression()\n",
    "regressor.fit(X_train, y_train)\n",
    "\n",
    "# Predict on the test set\n",
    "y_pred = regressor.predict(X_test)\n",
    "\n",
    "# Evaluate the model\n",
    "mae = mean_absolute_error(y_test, y_pred)\n",
    "mse = mean_squared_error(y_test, y_pred)\n",
    "r2 = r2_score(y_test, y_pred)\n",
    "\n",
    "print(f\"Mean Absolute Error (MAE): {mae}\")\n",
    "print(f\"Mean Squared Error (MSE): {mse}\")\n",
    "print(f\"R-squared: {r2}\")"
   ]
  },
  {
   "cell_type": "markdown",
   "metadata": {},
   "source": [
    "#### check for Model Underfitting "
   ]
  },
  {
   "cell_type": "code",
   "execution_count": 17,
   "metadata": {},
   "outputs": [],
   "source": [
    "y_train_pred = ridge.predict(X_train)\n",
    "y_test_pred = ridge.predict(X_test)"
   ]
  },
  {
   "cell_type": "code",
   "execution_count": 21,
   "metadata": {},
   "outputs": [
    {
     "name": "stdout",
     "output_type": "stream",
     "text": [
      "896181618.389524\n"
     ]
    }
   ],
   "source": [
    "# testing model performance on testing data\n",
    "mae = mean_absolute_error(y_test, y_test_pred)\n",
    "mse = mean_squared_error(y_test, y_test_pred)\n",
    "print(mse)"
   ]
  },
  {
   "cell_type": "code",
   "execution_count": 23,
   "metadata": {},
   "outputs": [
    {
     "name": "stdout",
     "output_type": "stream",
     "text": [
      "21904.229704912017\n"
     ]
    }
   ],
   "source": [
    "#testing model accuracy on training data\n",
    "tmae = mean_absolute_error(y_train, y_train_pred)\n",
    "tmse = mean_absolute_error(y_train, y_train_pred)\n",
    "print(tmse)"
   ]
  },
  {
   "cell_type": "markdown",
   "metadata": {},
   "source": [
    "Since the MSE score of test data is significantly greater than the MSE score of the train data, the model is **Overfitted** and to deal with that, **Regularisation** is one way to do if nothing happens after reducing features\n",
    "\n",
    "Features include: **Year, 'Region_Code', \n",
    "'Existing_Property_Average_Price', 'Existing_Property_Sales_Volume'**"
   ]
  },
  {
   "cell_type": "code",
   "execution_count": 17,
   "metadata": {},
   "outputs": [
    {
     "data": {
      "text/plain": [
       "0.674472226338768"
      ]
     },
     "execution_count": 17,
     "metadata": {},
     "output_type": "execute_result"
    }
   ],
   "source": [
    "# Checking relevance of the Year feature\n",
    "\n",
    "#Check for correlation\n",
    "data['Year'].corr(data['New_Build_Average_Price'])"
   ]
  },
  {
   "cell_type": "code",
   "execution_count": 18,
   "metadata": {},
   "outputs": [
    {
     "data": {
      "text/plain": [
       "0.044522404849476484"
      ]
     },
     "execution_count": 18,
     "metadata": {},
     "output_type": "execute_result"
    }
   ],
   "source": [
    "# Checking relevance of the Region Code feature\n",
    "\n",
    "#Check for correlation\n",
    "data['Region_Code'].corr(data['New_Build_Average_Price'])"
   ]
  },
  {
   "cell_type": "markdown",
   "metadata": {},
   "source": [
    "No correlation for Region code and target variable "
   ]
  },
  {
   "cell_type": "code",
   "execution_count": 19,
   "metadata": {},
   "outputs": [
    {
     "data": {
      "text/plain": [
       "0.9192995936786021"
      ]
     },
     "execution_count": 19,
     "metadata": {},
     "output_type": "execute_result"
    }
   ],
   "source": [
    "# Checking relevance of the Exisitng_property average price feature\n",
    "\n",
    "#Check for correlation\n",
    "data['Existing_Property_Average_Price'].corr(data['New_Build_Average_Price'])"
   ]
  },
  {
   "cell_type": "code",
   "execution_count": 20,
   "metadata": {},
   "outputs": [
    {
     "data": {
      "text/plain": [
       "-0.06862576401422382"
      ]
     },
     "execution_count": 20,
     "metadata": {},
     "output_type": "execute_result"
    }
   ],
   "source": [
    "# Checking relevance of the Exisitng_property average price feature\n",
    "\n",
    "#Check for correlation\n",
    "data['Existing_Property_Sales_Volume'].corr(data['New_Build_Average_Price'])"
   ]
  },
  {
   "cell_type": "markdown",
   "metadata": {},
   "source": [
    "No correlation as well"
   ]
  },
  {
   "cell_type": "markdown",
   "metadata": {},
   "source": [
    "#### Implementing Lasso Regularisation"
   ]
  },
  {
   "cell_type": "code",
   "execution_count": 12,
   "metadata": {},
   "outputs": [],
   "source": [
    "from sklearn.linear_model import Lasso"
   ]
  },
  {
   "cell_type": "code",
   "execution_count": 13,
   "metadata": {},
   "outputs": [],
   "source": [
    "lasso_model = Lasso()"
   ]
  },
  {
   "cell_type": "code",
   "execution_count": 14,
   "metadata": {},
   "outputs": [
    {
     "data": {
      "text/html": [
       "<style>#sk-container-id-1 {color: black;}#sk-container-id-1 pre{padding: 0;}#sk-container-id-1 div.sk-toggleable {background-color: white;}#sk-container-id-1 label.sk-toggleable__label {cursor: pointer;display: block;width: 100%;margin-bottom: 0;padding: 0.3em;box-sizing: border-box;text-align: center;}#sk-container-id-1 label.sk-toggleable__label-arrow:before {content: \"▸\";float: left;margin-right: 0.25em;color: #696969;}#sk-container-id-1 label.sk-toggleable__label-arrow:hover:before {color: black;}#sk-container-id-1 div.sk-estimator:hover label.sk-toggleable__label-arrow:before {color: black;}#sk-container-id-1 div.sk-toggleable__content {max-height: 0;max-width: 0;overflow: hidden;text-align: left;background-color: #f0f8ff;}#sk-container-id-1 div.sk-toggleable__content pre {margin: 0.2em;color: black;border-radius: 0.25em;background-color: #f0f8ff;}#sk-container-id-1 input.sk-toggleable__control:checked~div.sk-toggleable__content {max-height: 200px;max-width: 100%;overflow: auto;}#sk-container-id-1 input.sk-toggleable__control:checked~label.sk-toggleable__label-arrow:before {content: \"▾\";}#sk-container-id-1 div.sk-estimator input.sk-toggleable__control:checked~label.sk-toggleable__label {background-color: #d4ebff;}#sk-container-id-1 div.sk-label input.sk-toggleable__control:checked~label.sk-toggleable__label {background-color: #d4ebff;}#sk-container-id-1 input.sk-hidden--visually {border: 0;clip: rect(1px 1px 1px 1px);clip: rect(1px, 1px, 1px, 1px);height: 1px;margin: -1px;overflow: hidden;padding: 0;position: absolute;width: 1px;}#sk-container-id-1 div.sk-estimator {font-family: monospace;background-color: #f0f8ff;border: 1px dotted black;border-radius: 0.25em;box-sizing: border-box;margin-bottom: 0.5em;}#sk-container-id-1 div.sk-estimator:hover {background-color: #d4ebff;}#sk-container-id-1 div.sk-parallel-item::after {content: \"\";width: 100%;border-bottom: 1px solid gray;flex-grow: 1;}#sk-container-id-1 div.sk-label:hover label.sk-toggleable__label {background-color: #d4ebff;}#sk-container-id-1 div.sk-serial::before {content: \"\";position: absolute;border-left: 1px solid gray;box-sizing: border-box;top: 0;bottom: 0;left: 50%;z-index: 0;}#sk-container-id-1 div.sk-serial {display: flex;flex-direction: column;align-items: center;background-color: white;padding-right: 0.2em;padding-left: 0.2em;position: relative;}#sk-container-id-1 div.sk-item {position: relative;z-index: 1;}#sk-container-id-1 div.sk-parallel {display: flex;align-items: stretch;justify-content: center;background-color: white;position: relative;}#sk-container-id-1 div.sk-item::before, #sk-container-id-1 div.sk-parallel-item::before {content: \"\";position: absolute;border-left: 1px solid gray;box-sizing: border-box;top: 0;bottom: 0;left: 50%;z-index: -1;}#sk-container-id-1 div.sk-parallel-item {display: flex;flex-direction: column;z-index: 1;position: relative;background-color: white;}#sk-container-id-1 div.sk-parallel-item:first-child::after {align-self: flex-end;width: 50%;}#sk-container-id-1 div.sk-parallel-item:last-child::after {align-self: flex-start;width: 50%;}#sk-container-id-1 div.sk-parallel-item:only-child::after {width: 0;}#sk-container-id-1 div.sk-dashed-wrapped {border: 1px dashed gray;margin: 0 0.4em 0.5em 0.4em;box-sizing: border-box;padding-bottom: 0.4em;background-color: white;}#sk-container-id-1 div.sk-label label {font-family: monospace;font-weight: bold;display: inline-block;line-height: 1.2em;}#sk-container-id-1 div.sk-label-container {text-align: center;}#sk-container-id-1 div.sk-container {/* jupyter's `normalize.less` sets `[hidden] { display: none; }` but bootstrap.min.css set `[hidden] { display: none !important; }` so we also need the `!important` here to be able to override the default hidden behavior on the sphinx rendered scikit-learn.org. See: https://github.com/scikit-learn/scikit-learn/issues/21755 */display: inline-block !important;position: relative;}#sk-container-id-1 div.sk-text-repr-fallback {display: none;}</style><div id=\"sk-container-id-1\" class=\"sk-top-container\"><div class=\"sk-text-repr-fallback\"><pre>Lasso()</pre><b>In a Jupyter environment, please rerun this cell to show the HTML representation or trust the notebook. <br />On GitHub, the HTML representation is unable to render, please try loading this page with nbviewer.org.</b></div><div class=\"sk-container\" hidden><div class=\"sk-item\"><div class=\"sk-estimator sk-toggleable\"><input class=\"sk-toggleable__control sk-hidden--visually\" id=\"sk-estimator-id-1\" type=\"checkbox\" checked><label for=\"sk-estimator-id-1\" class=\"sk-toggleable__label sk-toggleable__label-arrow\">Lasso</label><div class=\"sk-toggleable__content\"><pre>Lasso()</pre></div></div></div></div></div>"
      ],
      "text/plain": [
       "Lasso()"
      ]
     },
     "execution_count": 14,
     "metadata": {},
     "output_type": "execute_result"
    }
   ],
   "source": [
    "lasso_model.fit(X_train, y_train)"
   ]
  },
  {
   "cell_type": "code",
   "execution_count": 15,
   "metadata": {},
   "outputs": [
    {
     "data": {
      "text/plain": [
       "array([ 68029.98815202, 196881.2126461 , 368428.79855908, ...,\n",
       "       259401.32106488, 273431.637582  , 372686.42194787])"
      ]
     },
     "execution_count": 15,
     "metadata": {},
     "output_type": "execute_result"
    }
   ],
   "source": [
    "y_pred = lasso_model.predict(X_test)\n",
    "y_pred"
   ]
  },
  {
   "cell_type": "code",
   "execution_count": 20,
   "metadata": {},
   "outputs": [],
   "source": [
    "from sklearn.metrics import mean_absolute_error, mean_squared_error, r2_score"
   ]
  },
  {
   "cell_type": "code",
   "execution_count": 17,
   "metadata": {},
   "outputs": [
    {
     "name": "stdout",
     "output_type": "stream",
     "text": [
      "Mean Absolute Error (MAE): 21702.374309377825\n",
      "Mean Squared Error (MSE): 896181657.6763707\n",
      "R-squared: 0.8715606264323974\n"
     ]
    }
   ],
   "source": [
    "# Evaluate the model\n",
    "mae = mean_absolute_error(y_test, y_pred)\n",
    "mse = mean_squared_error(y_test, y_pred)\n",
    "r2 = r2_score(y_test, y_pred)\n",
    "\n",
    "print(f\"Mean Absolute Error (MAE): {mae}\")\n",
    "print(f\"Mean Squared Error (MSE): {mse}\")\n",
    "print(f\"R-squared: {r2}\")"
   ]
  },
  {
   "cell_type": "code",
   "execution_count": 18,
   "metadata": {},
   "outputs": [
    {
     "data": {
      "text/plain": [
       "array([16491.54200948, 67055.58077802])"
      ]
     },
     "execution_count": 18,
     "metadata": {},
     "output_type": "execute_result"
    }
   ],
   "source": [
    "lasso_model.coef_"
   ]
  },
  {
   "cell_type": "code",
   "execution_count": 19,
   "metadata": {},
   "outputs": [
    {
     "name": "stdout",
     "output_type": "stream",
     "text": [
      "X_train shape: (58563, 2)\n",
      "X_test shape: (14641, 2)\n",
      "y_train shape: (58563,)\n",
      "y_test shape: (14641,)\n"
     ]
    }
   ],
   "source": [
    "print(\"X_train shape:\", X_train.shape)\n",
    "print(\"X_test shape:\", X_test.shape)\n",
    "print(\"y_train shape:\", y_train.shape)\n",
    "print(\"y_test shape:\", y_test.shape)\n"
   ]
  },
  {
   "cell_type": "markdown",
   "metadata": {},
   "source": [
    "#### Implementing Ridge Regression"
   ]
  },
  {
   "cell_type": "code",
   "execution_count": 11,
   "metadata": {},
   "outputs": [],
   "source": [
    "from sklearn.linear_model import Ridge\n",
    "from sklearn.model_selection import train_test_split\n",
    "from sklearn.metrics import mean_squared_error\n"
   ]
  },
  {
   "cell_type": "code",
   "execution_count": 12,
   "metadata": {},
   "outputs": [],
   "source": [
    "ridge = Ridge()"
   ]
  },
  {
   "cell_type": "code",
   "execution_count": 13,
   "metadata": {},
   "outputs": [
    {
     "data": {
      "text/html": [
       "<style>#sk-container-id-1 {color: black;}#sk-container-id-1 pre{padding: 0;}#sk-container-id-1 div.sk-toggleable {background-color: white;}#sk-container-id-1 label.sk-toggleable__label {cursor: pointer;display: block;width: 100%;margin-bottom: 0;padding: 0.3em;box-sizing: border-box;text-align: center;}#sk-container-id-1 label.sk-toggleable__label-arrow:before {content: \"▸\";float: left;margin-right: 0.25em;color: #696969;}#sk-container-id-1 label.sk-toggleable__label-arrow:hover:before {color: black;}#sk-container-id-1 div.sk-estimator:hover label.sk-toggleable__label-arrow:before {color: black;}#sk-container-id-1 div.sk-toggleable__content {max-height: 0;max-width: 0;overflow: hidden;text-align: left;background-color: #f0f8ff;}#sk-container-id-1 div.sk-toggleable__content pre {margin: 0.2em;color: black;border-radius: 0.25em;background-color: #f0f8ff;}#sk-container-id-1 input.sk-toggleable__control:checked~div.sk-toggleable__content {max-height: 200px;max-width: 100%;overflow: auto;}#sk-container-id-1 input.sk-toggleable__control:checked~label.sk-toggleable__label-arrow:before {content: \"▾\";}#sk-container-id-1 div.sk-estimator input.sk-toggleable__control:checked~label.sk-toggleable__label {background-color: #d4ebff;}#sk-container-id-1 div.sk-label input.sk-toggleable__control:checked~label.sk-toggleable__label {background-color: #d4ebff;}#sk-container-id-1 input.sk-hidden--visually {border: 0;clip: rect(1px 1px 1px 1px);clip: rect(1px, 1px, 1px, 1px);height: 1px;margin: -1px;overflow: hidden;padding: 0;position: absolute;width: 1px;}#sk-container-id-1 div.sk-estimator {font-family: monospace;background-color: #f0f8ff;border: 1px dotted black;border-radius: 0.25em;box-sizing: border-box;margin-bottom: 0.5em;}#sk-container-id-1 div.sk-estimator:hover {background-color: #d4ebff;}#sk-container-id-1 div.sk-parallel-item::after {content: \"\";width: 100%;border-bottom: 1px solid gray;flex-grow: 1;}#sk-container-id-1 div.sk-label:hover label.sk-toggleable__label {background-color: #d4ebff;}#sk-container-id-1 div.sk-serial::before {content: \"\";position: absolute;border-left: 1px solid gray;box-sizing: border-box;top: 0;bottom: 0;left: 50%;z-index: 0;}#sk-container-id-1 div.sk-serial {display: flex;flex-direction: column;align-items: center;background-color: white;padding-right: 0.2em;padding-left: 0.2em;position: relative;}#sk-container-id-1 div.sk-item {position: relative;z-index: 1;}#sk-container-id-1 div.sk-parallel {display: flex;align-items: stretch;justify-content: center;background-color: white;position: relative;}#sk-container-id-1 div.sk-item::before, #sk-container-id-1 div.sk-parallel-item::before {content: \"\";position: absolute;border-left: 1px solid gray;box-sizing: border-box;top: 0;bottom: 0;left: 50%;z-index: -1;}#sk-container-id-1 div.sk-parallel-item {display: flex;flex-direction: column;z-index: 1;position: relative;background-color: white;}#sk-container-id-1 div.sk-parallel-item:first-child::after {align-self: flex-end;width: 50%;}#sk-container-id-1 div.sk-parallel-item:last-child::after {align-self: flex-start;width: 50%;}#sk-container-id-1 div.sk-parallel-item:only-child::after {width: 0;}#sk-container-id-1 div.sk-dashed-wrapped {border: 1px dashed gray;margin: 0 0.4em 0.5em 0.4em;box-sizing: border-box;padding-bottom: 0.4em;background-color: white;}#sk-container-id-1 div.sk-label label {font-family: monospace;font-weight: bold;display: inline-block;line-height: 1.2em;}#sk-container-id-1 div.sk-label-container {text-align: center;}#sk-container-id-1 div.sk-container {/* jupyter's `normalize.less` sets `[hidden] { display: none; }` but bootstrap.min.css set `[hidden] { display: none !important; }` so we also need the `!important` here to be able to override the default hidden behavior on the sphinx rendered scikit-learn.org. See: https://github.com/scikit-learn/scikit-learn/issues/21755 */display: inline-block !important;position: relative;}#sk-container-id-1 div.sk-text-repr-fallback {display: none;}</style><div id=\"sk-container-id-1\" class=\"sk-top-container\"><div class=\"sk-text-repr-fallback\"><pre>Ridge()</pre><b>In a Jupyter environment, please rerun this cell to show the HTML representation or trust the notebook. <br />On GitHub, the HTML representation is unable to render, please try loading this page with nbviewer.org.</b></div><div class=\"sk-container\" hidden><div class=\"sk-item\"><div class=\"sk-estimator sk-toggleable\"><input class=\"sk-toggleable__control sk-hidden--visually\" id=\"sk-estimator-id-1\" type=\"checkbox\" checked><label for=\"sk-estimator-id-1\" class=\"sk-toggleable__label sk-toggleable__label-arrow\">Ridge</label><div class=\"sk-toggleable__content\"><pre>Ridge()</pre></div></div></div></div></div>"
      ],
      "text/plain": [
       "Ridge()"
      ]
     },
     "execution_count": 13,
     "metadata": {},
     "output_type": "execute_result"
    }
   ],
   "source": [
    "ridge.fit(X_train, y_train)"
   ]
  },
  {
   "cell_type": "code",
   "execution_count": 14,
   "metadata": {},
   "outputs": [
    {
     "data": {
      "text/plain": [
       "array([ 68045.96009859, 196835.59816046, 368384.87170054, ...,\n",
       "       259352.89968103, 273352.65680844, 372621.52296825])"
      ]
     },
     "execution_count": 14,
     "metadata": {},
     "output_type": "execute_result"
    }
   ],
   "source": [
    "y_pred = ridge.predict(X_test)\n",
    "y_pred"
   ]
  },
  {
   "cell_type": "markdown",
   "metadata": {},
   "source": [
    "#### Performing cross validation as a form of testing the training algorithm"
   ]
  },
  {
   "cell_type": "code",
   "execution_count": 22,
   "metadata": {},
   "outputs": [
    {
     "name": "stdout",
     "output_type": "stream",
     "text": [
      "Cross-Validation Scores: [0.88115993 0.87997984 0.88117713 0.88294377 0.8780762 ]\n",
      "Mean Score: 0.8806673740686547\n",
      "Standard Deviation Score: 0.0016044534054848025\n"
     ]
    }
   ],
   "source": [
    "model = LinearRegression()\n",
    "\n",
    "\n",
    "k = 5  # You can change the number of folds as needed\n",
    "cv = KFold(n_splits=k, shuffle=True, random_state=42)  # K-Fold Cross-Validation\n",
    "\n",
    "# Perform cross-validation and obtain scores\n",
    "scores = cross_val_score(model, X_train, y_train, cv=cv, scoring='r2')  \n",
    "\n",
    "# Print the cross-validation scores\n",
    "print(\"Cross-Validation Scores:\", scores)\n",
    "\n",
    "# Calculate the mean and standard deviation of scores\n",
    "mean_score = scores.mean()\n",
    "std_score = scores.std()\n",
    "\n",
    "# Print the mean and standard deviation of scores\n",
    "print(\"Mean Score:\", mean_score)\n",
    "print(\"Standard Deviation Score:\", std_score)"
   ]
  },
  {
   "cell_type": "code",
   "execution_count": null,
   "metadata": {},
   "outputs": [],
   "source": []
  }
 ],
 "metadata": {
  "interpreter": {
   "hash": "b2c6f2ea19640f672607f826ec3833fe7d573d7afb3322c91561606ae5455100"
  },
  "kernelspec": {
   "display_name": "Python 3 (ipykernel)",
   "language": "python",
   "name": "python3"
  },
  "language_info": {
   "codemirror_mode": {
    "name": "ipython",
    "version": 3
   },
   "file_extension": ".py",
   "mimetype": "text/x-python",
   "name": "python",
   "nbconvert_exporter": "python",
   "pygments_lexer": "ipython3",
   "version": "3.10.9"
  }
 },
 "nbformat": 4,
 "nbformat_minor": 2
}
